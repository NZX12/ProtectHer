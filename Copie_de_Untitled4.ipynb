{
  "nbformat": 4,
  "nbformat_minor": 0,
  "metadata": {
    "colab": {
      "provenance": []
    },
    "kernelspec": {
      "name": "python3",
      "display_name": "Python 3"
    },
    "language_info": {
      "name": "python"
    }
  },
  "cells": [
    {
      "cell_type": "markdown",
      "source": [
        "## Loading the necessary libraries:"
      ],
      "metadata": {
        "id": "_TGjNsxaRATC"
      }
    },
    {
      "cell_type": "code",
      "execution_count": 2,
      "metadata": {
        "id": "O9P9DEoXIrx_"
      },
      "outputs": [],
      "source": [
        "import pandas as pd\n",
        "from sklearn.model_selection import train_test_split\n",
        "from sklearn.tree import DecisionTreeClassifier\n",
        "from sklearn.metrics import accuracy_score\n",
        "from sklearn.metrics import confusion_matrix\n",
        "from sklearn.preprocessing import OneHotEncoder, MinMaxScaler\n",
        "from sklearn.preprocessing import LabelEncoder"
      ]
    },
    {
      "cell_type": "markdown",
      "source": [
        "## Load the data into a pandas dataframe and transforming variables:\n",
        "\n"
      ],
      "metadata": {
        "id": "BxjCs24LRTwC"
      }
    },
    {
      "cell_type": "code",
      "source": [
        "df = pd.read_csv(\"Classeur1.csv\")\n",
        "\n",
        "le = LabelEncoder()\n",
        "df['GPS'] = le.fit_transform( df['GPS'])\n",
        "df[\"SpO2\"] = df[\"SpO2\"].apply(lambda x: x / 100.0)\n"
      ],
      "metadata": {
        "id": "Uo7hbY5sNWOY"
      },
      "execution_count": 7,
      "outputs": []
    },
    {
      "cell_type": "code",
      "source": [
        "df.head()"
      ],
      "metadata": {
        "colab": {
          "base_uri": "https://localhost:8080/",
          "height": 206
        },
        "id": "H4fS5k_NOdyr",
        "outputId": "92ad9330-c1b9-4ba0-cca9-0fff82992508"
      },
      "execution_count": 7,
      "outputs": [
        {
          "output_type": "execute_result",
          "data": {
            "text/plain": [
              "   Strees  SpO2  GPS  heart_rate  speed  temperature    result\n",
              "0      47  0.90    3          65      2           36  violence\n",
              "1      35  0.93    3          74      2           36  violence\n",
              "2      47  0.92    5          73      3           36  violence\n",
              "3      48  0.91    3          81      3           36  violence\n",
              "4      55  0.90    7          77      2           36  violence"
            ],
            "text/html": [
              "\n",
              "  <div id=\"df-bbecac11-a71e-4575-9f2b-b6e23f4632ef\">\n",
              "    <div class=\"colab-df-container\">\n",
              "      <div>\n",
              "<style scoped>\n",
              "    .dataframe tbody tr th:only-of-type {\n",
              "        vertical-align: middle;\n",
              "    }\n",
              "\n",
              "    .dataframe tbody tr th {\n",
              "        vertical-align: top;\n",
              "    }\n",
              "\n",
              "    .dataframe thead th {\n",
              "        text-align: right;\n",
              "    }\n",
              "</style>\n",
              "<table border=\"1\" class=\"dataframe\">\n",
              "  <thead>\n",
              "    <tr style=\"text-align: right;\">\n",
              "      <th></th>\n",
              "      <th>Strees</th>\n",
              "      <th>SpO2</th>\n",
              "      <th>GPS</th>\n",
              "      <th>heart_rate</th>\n",
              "      <th>speed</th>\n",
              "      <th>temperature</th>\n",
              "      <th>result</th>\n",
              "    </tr>\n",
              "  </thead>\n",
              "  <tbody>\n",
              "    <tr>\n",
              "      <th>0</th>\n",
              "      <td>47</td>\n",
              "      <td>0.90</td>\n",
              "      <td>3</td>\n",
              "      <td>65</td>\n",
              "      <td>2</td>\n",
              "      <td>36</td>\n",
              "      <td>violence</td>\n",
              "    </tr>\n",
              "    <tr>\n",
              "      <th>1</th>\n",
              "      <td>35</td>\n",
              "      <td>0.93</td>\n",
              "      <td>3</td>\n",
              "      <td>74</td>\n",
              "      <td>2</td>\n",
              "      <td>36</td>\n",
              "      <td>violence</td>\n",
              "    </tr>\n",
              "    <tr>\n",
              "      <th>2</th>\n",
              "      <td>47</td>\n",
              "      <td>0.92</td>\n",
              "      <td>5</td>\n",
              "      <td>73</td>\n",
              "      <td>3</td>\n",
              "      <td>36</td>\n",
              "      <td>violence</td>\n",
              "    </tr>\n",
              "    <tr>\n",
              "      <th>3</th>\n",
              "      <td>48</td>\n",
              "      <td>0.91</td>\n",
              "      <td>3</td>\n",
              "      <td>81</td>\n",
              "      <td>3</td>\n",
              "      <td>36</td>\n",
              "      <td>violence</td>\n",
              "    </tr>\n",
              "    <tr>\n",
              "      <th>4</th>\n",
              "      <td>55</td>\n",
              "      <td>0.90</td>\n",
              "      <td>7</td>\n",
              "      <td>77</td>\n",
              "      <td>2</td>\n",
              "      <td>36</td>\n",
              "      <td>violence</td>\n",
              "    </tr>\n",
              "  </tbody>\n",
              "</table>\n",
              "</div>\n",
              "      <button class=\"colab-df-convert\" onclick=\"convertToInteractive('df-bbecac11-a71e-4575-9f2b-b6e23f4632ef')\"\n",
              "              title=\"Convert this dataframe to an interactive table.\"\n",
              "              style=\"display:none;\">\n",
              "        \n",
              "  <svg xmlns=\"http://www.w3.org/2000/svg\" height=\"24px\"viewBox=\"0 0 24 24\"\n",
              "       width=\"24px\">\n",
              "    <path d=\"M0 0h24v24H0V0z\" fill=\"none\"/>\n",
              "    <path d=\"M18.56 5.44l.94 2.06.94-2.06 2.06-.94-2.06-.94-.94-2.06-.94 2.06-2.06.94zm-11 1L8.5 8.5l.94-2.06 2.06-.94-2.06-.94L8.5 2.5l-.94 2.06-2.06.94zm10 10l.94 2.06.94-2.06 2.06-.94-2.06-.94-.94-2.06-.94 2.06-2.06.94z\"/><path d=\"M17.41 7.96l-1.37-1.37c-.4-.4-.92-.59-1.43-.59-.52 0-1.04.2-1.43.59L10.3 9.45l-7.72 7.72c-.78.78-.78 2.05 0 2.83L4 21.41c.39.39.9.59 1.41.59.51 0 1.02-.2 1.41-.59l7.78-7.78 2.81-2.81c.8-.78.8-2.07 0-2.86zM5.41 20L4 18.59l7.72-7.72 1.47 1.35L5.41 20z\"/>\n",
              "  </svg>\n",
              "      </button>\n",
              "      \n",
              "  <style>\n",
              "    .colab-df-container {\n",
              "      display:flex;\n",
              "      flex-wrap:wrap;\n",
              "      gap: 12px;\n",
              "    }\n",
              "\n",
              "    .colab-df-convert {\n",
              "      background-color: #E8F0FE;\n",
              "      border: none;\n",
              "      border-radius: 50%;\n",
              "      cursor: pointer;\n",
              "      display: none;\n",
              "      fill: #1967D2;\n",
              "      height: 32px;\n",
              "      padding: 0 0 0 0;\n",
              "      width: 32px;\n",
              "    }\n",
              "\n",
              "    .colab-df-convert:hover {\n",
              "      background-color: #E2EBFA;\n",
              "      box-shadow: 0px 1px 2px rgba(60, 64, 67, 0.3), 0px 1px 3px 1px rgba(60, 64, 67, 0.15);\n",
              "      fill: #174EA6;\n",
              "    }\n",
              "\n",
              "    [theme=dark] .colab-df-convert {\n",
              "      background-color: #3B4455;\n",
              "      fill: #D2E3FC;\n",
              "    }\n",
              "\n",
              "    [theme=dark] .colab-df-convert:hover {\n",
              "      background-color: #434B5C;\n",
              "      box-shadow: 0px 1px 3px 1px rgba(0, 0, 0, 0.15);\n",
              "      filter: drop-shadow(0px 1px 2px rgba(0, 0, 0, 0.3));\n",
              "      fill: #FFFFFF;\n",
              "    }\n",
              "  </style>\n",
              "\n",
              "      <script>\n",
              "        const buttonEl =\n",
              "          document.querySelector('#df-bbecac11-a71e-4575-9f2b-b6e23f4632ef button.colab-df-convert');\n",
              "        buttonEl.style.display =\n",
              "          google.colab.kernel.accessAllowed ? 'block' : 'none';\n",
              "\n",
              "        async function convertToInteractive(key) {\n",
              "          const element = document.querySelector('#df-bbecac11-a71e-4575-9f2b-b6e23f4632ef');\n",
              "          const dataTable =\n",
              "            await google.colab.kernel.invokeFunction('convertToInteractive',\n",
              "                                                     [key], {});\n",
              "          if (!dataTable) return;\n",
              "\n",
              "          const docLinkHtml = 'Like what you see? Visit the ' +\n",
              "            '<a target=\"_blank\" href=https://colab.research.google.com/notebooks/data_table.ipynb>data table notebook</a>'\n",
              "            + ' to learn more about interactive tables.';\n",
              "          element.innerHTML = '';\n",
              "          dataTable['output_type'] = 'display_data';\n",
              "          await google.colab.output.renderOutput(dataTable, element);\n",
              "          const docLink = document.createElement('div');\n",
              "          docLink.innerHTML = docLinkHtml;\n",
              "          element.appendChild(docLink);\n",
              "        }\n",
              "      </script>\n",
              "    </div>\n",
              "  </div>\n",
              "  "
            ]
          },
          "metadata": {},
          "execution_count": 7
        }
      ]
    },
    {
      "cell_type": "markdown",
      "source": [
        "## Model 1:"
      ],
      "metadata": {
        "id": "lAPJyX1tRtiE"
      }
    },
    {
      "cell_type": "code",
      "source": [
        "\n",
        "# Split the data into features (X) and target (y)\n",
        "X = df.drop(\"result\", axis=1)\n",
        "y = df[\"result\"]\n",
        "\n",
        "# Split the data into training and testing sets\n",
        "X_train, X_test, y_train, y_test = train_test_split(X, y, test_size=0.5)\n",
        "\n",
        "# Train a decision tree classifier on the training data\n",
        "clf = DecisionTreeClassifier()\n",
        "clf.fit(X_train, y_train)\n",
        "\n",
        "# Predict on the test data\n",
        "y_pred = clf.predict(X_test)\n",
        "\n",
        "# Evaluate the accuracy of the model\n",
        "\n",
        "cm = confusion_matrix(y_test, y_pred)\n",
        "\n",
        "print(\"Confusion Matrix:\")\n",
        "print(cm)"
      ],
      "metadata": {
        "colab": {
          "base_uri": "https://localhost:8080/"
        },
        "id": "lqr6mdhHKRbl",
        "outputId": "fcbdd265-28b5-43f4-d249-7df29d857662"
      },
      "execution_count": 5,
      "outputs": [
        {
          "output_type": "stream",
          "name": "stdout",
          "text": [
            "Confusion Matrix:\n",
            "[[9 0]\n",
            " [0 6]]\n"
          ]
        }
      ]
    },
    {
      "cell_type": "markdown",
      "source": [
        "## Model 2:"
      ],
      "metadata": {
        "id": "eDAJXL7ZRqxT"
      }
    },
    {
      "cell_type": "code",
      "source": [
        "# Load the data into a pandas dataframe\n",
        "df = pd.read_csv(\"Classeur1.csv\")\n",
        "\n",
        "# data preprocessing: features transformation\n",
        "le = LabelEncoder()\n",
        "df['GPS'] = le.fit_transform( df['GPS'])\n",
        "\n",
        "encoder = OneHotEncoder()\n",
        "one_hot_stress = encoder.fit_transform(df[[\"Strees\"]]).toarray()\n",
        "df = df.drop(\"Strees\", axis=1)\n",
        "df = pd.concat([df, pd.DataFrame(one_hot_stress)], axis=1)\n",
        "scaler = MinMaxScaler()\n",
        "df[[\"SpO2\", \"heart_rate\", \"speed\", \"temperature\"]] = scaler.fit_transform(df[[\"SpO2\", \"heart_rate\", \"speed\", \"temperature\"]])\n",
        "\n",
        "# Split the data into training and testing sets\n",
        "\n",
        "X = df.drop(\"result\", axis=1)\n",
        "y = df[\"result\"]\n",
        "X_train, X_test, y_train, y_test = train_test_split(X, y, test_size=0.5)\n",
        "\n",
        "# Train a decision tree classifier on the training data\n",
        "clf = DecisionTreeClassifier()\n",
        "clf.fit(X_train, y_train)\n",
        "\n",
        "# Predict on the test data and  Evaluate the accuracy of the model\n",
        "y_pred = clf.predict(X_test)\n",
        "cm = confusion_matrix(y_test, y_pred)\n",
        "\n",
        "print(\"Confusion Matrix:\")\n",
        "print(cm)\n"
      ],
      "metadata": {
        "colab": {
          "base_uri": "https://localhost:8080/"
        },
        "id": "owV6FO2AM2xT",
        "outputId": "c9b7df18-0c1e-40a0-c242-e439983d00e4"
      },
      "execution_count": 6,
      "outputs": [
        {
          "output_type": "stream",
          "name": "stdout",
          "text": [
            "Confusion Matrix:\n",
            "[[7 0]\n",
            " [0 8]]\n"
          ]
        },
        {
          "output_type": "stream",
          "name": "stderr",
          "text": [
            "/usr/local/lib/python3.8/dist-packages/sklearn/utils/validation.py:1688: FutureWarning: Feature names only support names that are all strings. Got feature names with dtypes: ['int', 'str']. An error will be raised in 1.2.\n",
            "  warnings.warn(\n",
            "/usr/local/lib/python3.8/dist-packages/sklearn/utils/validation.py:1688: FutureWarning: Feature names only support names that are all strings. Got feature names with dtypes: ['int', 'str']. An error will be raised in 1.2.\n",
            "  warnings.warn(\n"
          ]
        }
      ]
    }
  ]
}